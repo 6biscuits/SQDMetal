{
 "cells": [
  {
   "cell_type": "markdown",
   "metadata": {},
   "source": [
    "# PVD simulation example\n",
    "\n",
    "Start with a simple miniature cross"
   ]
  },
  {
   "cell_type": "code",
   "execution_count": 1,
   "metadata": {},
   "outputs": [],
   "source": [
    "%load_ext autoreload\n",
    "%autoreload 2\n",
    "import os\n",
    "os.environ[\"KMP_DUPLICATE_LIB_OK\"]=\"TRUE\"\n",
    "os.environ[\"PMIX_MCA_gds\"]=\"hash\"\n",
    "\n",
    "# Import useful packages\n",
    "from qiskit_metal import designs, draw\n",
    "from qiskit_metal import MetalGUI, Dict, open_docs\n",
    "from SQDMetal.Comps.Xmon import Xmon\n",
    "from SQDMetal.Comps.Polygons import PolyRectangle\n",
    "\n",
    "# Set up chip design as planar\n",
    "design = designs.DesignPlanar({}, overwrite_enabled=True)\n",
    "\n",
    "# Set up chip dimensions \n",
    "design.chips.main.size.size_x = '5um'\n",
    "design.chips.main.size.size_y = '5um'\n",
    "design.chips.main.size.size_z = '100um'\n",
    "design.chips.main.size.center_x = '0mm'\n",
    "design.chips.main.size.center_y = '0mm'\n",
    "\n",
    "\n",
    "Q1 = Xmon(design, 'cross', options = dict(pos_x = '0', pos_y='0',\n",
    "                                          cross_width='1um', cross_height='1um',\n",
    "                                          vBar_width='100nm', hBar_width='100nm',\n",
    "                                          vBar_gap=0, hBar_gap=0))\n",
    "gndCut = PolyRectangle(design, 'gndCutout', options=dict(pos_x='-2.5um',pos_y='-2.5um',\n",
    "                                                         end_x='2.5um',end_y='2.5um',\n",
    "                                                         is_ground_cutout=True))\n",
    "\n",
    "\n",
    "# gui = MetalGUI(design)\n",
    "# gui.rebuild()\n",
    "design.rebuild()"
   ]
  },
  {
   "cell_type": "markdown",
   "metadata": {},
   "source": [
    "Now consider dual evaporation for the given layer"
   ]
  },
  {
   "cell_type": "code",
   "execution_count": 9,
   "metadata": {},
   "outputs": [],
   "source": [
    "design.chips['main']['evaporations'] = Dict(\n",
    "    layer1=Dict(\n",
    "        bottom_layer='200nm',\n",
    "        top_layer='100nm',\n",
    "        undercut='200nm',\n",
    "        pvd1 = Dict(\n",
    "        angle_phi = '-90',\n",
    "        angle_theta = '45',\n",
    "        metal_thickness = '100nm'\n",
    "        ),\n",
    "        pvd2 = Dict(\n",
    "        angle_phi = '0',\n",
    "        angle_theta = '45'\n",
    "        )\n",
    "    )\n",
    ")"
   ]
  },
  {
   "cell_type": "code",
   "execution_count": 10,
   "metadata": {},
   "outputs": [],
   "source": [
    "from SQDMetal.Utilities.PVD_Shadows import PVD_Shadows\n",
    "%matplotlib inline"
   ]
  },
  {
   "cell_type": "code",
   "execution_count": 11,
   "metadata": {},
   "outputs": [
    {
     "name": "stderr",
     "output_type": "stream",
     "text": [
      "WARNING:py.warnings:c:\\Users\\PrasannaPC\\anaconda3\\envs\\sqdmetal_env\\Lib\\site-packages\\shapely\\set_operations.py:133: RuntimeWarning: invalid value encountered in intersection\n",
      "  return lib.intersection(a, b, **kwargs)\n",
      "\n",
      "WARNING:py.warnings:c:\\Users\\PrasannaPC\\anaconda3\\envs\\sqdmetal_env\\Lib\\site-packages\\shapely\\set_operations.py:133: RuntimeWarning: invalid value encountered in intersection\n",
      "  return lib.intersection(a, b, **kwargs)\n",
      "\n"
     ]
    },
    {
     "data": {
      "image/png": "[encoded data removed]",
      "text/plain": [
       "<Figure size 640x480 with 1 Axes>"
      ]
     },
     "metadata": {},
     "output_type": "display_data"
    }
   ],
   "source": [
    "pvdSh = PVD_Shadows(design)\n",
    "pvdSh.plot_layer(1,'separate', plot_mask=True);"
   ]
  },
  {
   "cell_type": "code",
   "execution_count": null,
   "metadata": {},
   "outputs": [],
   "source": []
  }
 ],
 "metadata": {
  "kernelspec": {
   "display_name": "sqdmetal_env",
   "language": "python",
   "name": "python3"
  },
  "language_info": {
   "codemirror_mode": {
    "name": "ipython",
    "version": 3
   },
   "file_extension": ".py",
   "mimetype": "text/x-python",
   "name": "python",
   "nbconvert_exporter": "python",
   "pygments_lexer": "ipython3",
   "version": "3.11.3"
  }
 },
 "nbformat": 4,
 "nbformat_minor": 2
}
