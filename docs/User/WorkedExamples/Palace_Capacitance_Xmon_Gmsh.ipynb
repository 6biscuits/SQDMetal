{
 "cells": [
  {
   "cell_type": "markdown",
   "metadata": {},
   "source": [
    "# Capacitance Simulation of X-mon Coupled to Transmission line via Resonator"
   ]
  },
  {
   "cell_type": "markdown",
   "metadata": {},
   "source": [
    "#### Design"
   ]
  },
  {
   "cell_type": "code",
   "execution_count": 1,
   "metadata": {},
   "outputs": [
    {
     "name": "stderr",
     "output_type": "stream",
     "text": [
      "WARNING:py.warnings:/home/prasanna/miniconda3/envs/sqdmetal_env/lib/python3.10/site-packages/qiskit_metal/qgeometries/qgeometries_handler.py:528: FutureWarning: The behavior of DataFrame concatenation with empty or all-NA entries is deprecated. In a future version, this will no longer exclude empty or all-NA columns when determining the result dtypes. To retain the old behavior, exclude the relevant entries before the concat operation.\n",
      "  self.tables[kind] = pd.concat([table, df],\n",
      "\n",
      "WARNING:py.warnings:/home/prasanna/miniconda3/envs/sqdmetal_env/lib/python3.10/site-packages/qiskit_metal/renderers/renderer_mpl/mpl_renderer.py:468: FutureWarning: Series.__getitem__ treating keys as positions is deprecated. In a future version, integer keys will always be treated as labels (consistent with DataFrame behavior). To access a value by position, use `ser.iloc[pos]`\n",
      "  table1.geometry = table1[['geometry', 'width']].apply(lambda x: x[\n",
      "\n",
      "WARNING:py.warnings:/home/prasanna/miniconda3/envs/sqdmetal_env/lib/python3.10/site-packages/qiskit_metal/renderers/renderer_mpl/mpl_renderer.py:469: FutureWarning: Series.__getitem__ treating keys as positions is deprecated. In a future version, integer keys will always be treated as labels (consistent with DataFrame behavior). To access a value by position, use `ser.iloc[pos]`\n",
      "  0].buffer(distance=float(x[1]) / 2.,\n",
      "\n",
      "WARNING:py.warnings:/home/prasanna/miniconda3/envs/sqdmetal_env/lib/python3.10/site-packages/qiskit_metal/renderers/renderer_mpl/mpl_renderer.py:468: FutureWarning: Series.__getitem__ treating keys as positions is deprecated. In a future version, integer keys will always be treated as labels (consistent with DataFrame behavior). To access a value by position, use `ser.iloc[pos]`\n",
      "  table1.geometry = table1[['geometry', 'width']].apply(lambda x: x[\n",
      "\n",
      "WARNING:py.warnings:/home/prasanna/miniconda3/envs/sqdmetal_env/lib/python3.10/site-packages/qiskit_metal/renderers/renderer_mpl/mpl_renderer.py:469: FutureWarning: Series.__getitem__ treating keys as positions is deprecated. In a future version, integer keys will always be treated as labels (consistent with DataFrame behavior). To access a value by position, use `ser.iloc[pos]`\n",
      "  0].buffer(distance=float(x[1]) / 2.,\n",
      "\n",
      "WARNING:py.warnings:/home/prasanna/miniconda3/envs/sqdmetal_env/lib/python3.10/site-packages/qiskit_metal/renderers/renderer_mpl/mpl_renderer.py:280: FutureWarning: Series.__getitem__ treating keys as positions is deprecated. In a future version, integer keys will always be treated as labels (consistent with DataFrame behavior). To access a value by position, use `ser.iloc[pos]`\n",
      "  lambda x: x[0].buffer(distance=float(x[1]) / 2.,\n",
      "\n"
     ]
    }
   ],
   "source": [
    "%load_ext autoreload\n",
    "%autoreload 2\n",
    "import os\n",
    "os.environ[\"KMP_DUPLICATE_LIB_OK\"]=\"TRUE\"\n",
    "os.environ[\"PMIX_MCA_gds\"]=\"hash\"\n",
    "\n",
    "# Import useful packages\n",
    "import qiskit_metal as metal\n",
    "from qiskit_metal import designs, draw\n",
    "from qiskit_metal import MetalGUI, Dict, open_docs\n",
    "from qiskit_metal.toolbox_metal import math_and_overrides\n",
    "from qiskit_metal.qlibrary.core import QComponent\n",
    "from collections import OrderedDict\n",
    "from qiskit_metal.qlibrary.qubits.transmon_cross import TransmonCross\n",
    "from qiskit_metal.qlibrary.tlines.meandered import RouteMeander\n",
    "from qiskit_metal.qlibrary.tlines.straight_path import RouteStraight\n",
    "from qiskit_metal.qlibrary.tlines.pathfinder import RoutePathfinder\n",
    "from qiskit_metal.qlibrary.terminations.launchpad_wb import LaunchpadWirebond\n",
    "from qiskit_metal.qlibrary.terminations.open_to_ground import OpenToGround\n",
    "from qiskit_metal.qlibrary.terminations.short_to_ground import ShortToGround\n",
    "from qiskit_metal.qlibrary.couplers.coupled_line_tee import CoupledLineTee\n",
    "\n",
    "# Set up chip design as planar\n",
    "design = designs.DesignPlanar({}, overwrite_enabled=True)\n",
    "\n",
    "# Set up chip dimensions \n",
    "design.chips.main.size.size_x = '4.6mm'\n",
    "design.chips.main.size.size_y = '2.4mm'\n",
    "design.chips.main.size.size_z = '-280um'\n",
    "design.chips.main.size.center_x = '0mm'\n",
    "design.chips.main.size.center_y = '-1mm'\n",
    "\n",
    "# Resonator and feedline gap width (W) and center conductor width (S) \n",
    "design.variables['cpw_width'] = '10 um' #S\n",
    "design.variables['cpw_gap'] = '6 um' #W \n",
    "\n",
    "# Create GUI\n",
    "gui = MetalGUI(design)\n",
    "\n",
    "# Lauchpad 1\n",
    "x1 = '-2mm'\n",
    "y1 = '0mm'\n",
    "launch_options1 = dict(chip='main', pos_x=x1, pos_y=y1, orientation='360', lead_length='30um', pad_height='103um', \n",
    "                      pad_width='103um', pad_gap='60um')\n",
    "LP1 = LaunchpadWirebond(design, 'LP1', options = launch_options1)\n",
    "\n",
    "# Launchpad 2\n",
    "x2 = '2mm'\n",
    "y1 = '0mm'\n",
    "launch_options2 = dict(chip='main', pos_x=x2, pos_y=y1, orientation='180', lead_length='30um', pad_height='103um', \n",
    "                      pad_width='103um', pad_gap='60um')\n",
    "LP2 = LaunchpadWirebond(design, 'LP2', options = launch_options2)\n",
    "\n",
    "# Using path finder to connect the two launchpads\n",
    "TL = RoutePathfinder(design, 'TL', options = dict(chip='main', trace_width ='10um',\n",
    "                                            trace_gap ='6um',\n",
    "                                            fillet='90um',                                                            \n",
    "                                            hfss_wire_bonds = True,\n",
    "                                            lead=dict(end_straight='0.1mm'),\n",
    "                                            pin_inputs=Dict(\n",
    "                                                start_pin=Dict(\n",
    "                                                    component='LP1',\n",
    "                                                    pin='tie'),\n",
    "                                                end_pin=Dict(\n",
    "                                                    component='LP2',\n",
    "                                                    pin='tie')\n",
    "                                            )))\n",
    "\n",
    "######################\n",
    "#Transmon Cross Qubit#\n",
    "######################\n",
    "\n",
    "Q1 = TransmonCross(design, 'Q1', options = dict(pos_x = '0.6075mm', pos_y='-1.464',\n",
    "                                                     connection_pads = dict(\n",
    "                                                     bus_01 = dict(connector_location = '180',claw_length ='95um'),\n",
    "                                                     readout = dict(connector_location = '0')),\n",
    "                                                     fl_options = dict()))\n",
    "\n",
    "######################\n",
    "#     Resonator      #\n",
    "######################\n",
    "\n",
    "#open to ground for resonator\n",
    "otg1 = OpenToGround(design, 'otg1', options=dict(chip='main', pos_x='-0.2mm',  pos_y='-40um', orientation = 180))\n",
    "\n",
    "# Use RouteMeander to fix the total length of the resonator\n",
    "res1 = RouteMeander(design, 'resonator1',  Dict(\n",
    "        trace_width ='10um',\n",
    "        trace_gap ='6um',\n",
    "        total_length='3.7mm',\n",
    "        hfss_wire_bonds = False,\n",
    "        fillet='99.9 um',\n",
    "        lead = dict(start_straight='300um'),\n",
    "        pin_inputs=Dict(\n",
    "        start_pin=Dict(component= 'otg1', pin= 'open'),\n",
    "        end_pin=Dict(component= 'Q1', pin= 'readout')), ))\n",
    "\n",
    "# rebuild the GUI\n",
    "gui.rebuild()\n",
    "design.rebuild()"
   ]
  },
  {
   "cell_type": "markdown",
   "metadata": {},
   "source": [
    "# Simulation"
   ]
  },
  {
   "cell_type": "markdown",
   "metadata": {},
   "source": [
    "#### Now to run the Palace simulation (*make sure to update the path to the Palace binary first*)"
   ]
  },
  {
   "cell_type": "code",
   "execution_count": 3,
   "metadata": {},
   "outputs": [
    {
     "ename": "AttributeError",
     "evalue": "'PALACE_Capacitance_Simulation' object has no attribute 'fine_mesh_in_rectangle'",
     "output_type": "error",
     "traceback": [
      "\u001b[0;31m---------------------------------------------------------------------------\u001b[0m",
      "\u001b[0;31mAttributeError\u001b[0m                            Traceback (most recent call last)",
      "Cell \u001b[0;32mIn[3], line 33\u001b[0m\n\u001b[1;32m     30\u001b[0m cap_sim\u001b[38;5;241m.\u001b[39madd_ground_plane(threshold\u001b[38;5;241m=\u001b[39m\u001b[38;5;241m1e-10\u001b[39m)\n\u001b[1;32m     32\u001b[0m \u001b[38;5;66;03m#Fine-mesh the transmon cross qubit region\u001b[39;00m\n\u001b[0;32m---> 33\u001b[0m \u001b[43mcap_sim\u001b[49m\u001b[38;5;241;43m.\u001b[39;49m\u001b[43mfine_mesh_in_rectangle\u001b[49m(\u001b[38;5;241m0.3875e-3\u001b[39m, \u001b[38;5;241m-\u001b[39m\u001b[38;5;241m1.2e-3\u001b[39m, \u001b[38;5;241m0.83e-3\u001b[39m, \u001b[38;5;241m-\u001b[39m\u001b[38;5;241m1.72e-3\u001b[39m, mesh_sampling\u001b[38;5;241m=\u001b[39m\u001b[38;5;241m130\u001b[39m, mesh_min\u001b[38;5;241m=\u001b[39m\u001b[38;5;241m15e-3\u001b[39m, mesh_max\u001b[38;5;241m=\u001b[39m\u001b[38;5;241m120e-3\u001b[39m)\n\u001b[1;32m     35\u001b[0m \u001b[38;5;66;03m#Fine-mesh resonator and transmission line\u001b[39;00m\n\u001b[1;32m     36\u001b[0m cap_sim\u001b[38;5;241m.\u001b[39mfine_mesh_along_path(\u001b[38;5;241m100e-6\u001b[39m, \u001b[38;5;124m'\u001b[39m\u001b[38;5;124mTL\u001b[39m\u001b[38;5;124m'\u001b[39m, mesh_sampling\u001b[38;5;241m=\u001b[39m\u001b[38;5;241m130\u001b[39m, mesh_min\u001b[38;5;241m=\u001b[39m\u001b[38;5;241m10e-3\u001b[39m, mesh_max\u001b[38;5;241m=\u001b[39m\u001b[38;5;241m120e-3\u001b[39m)\n",
      "\u001b[0;31mAttributeError\u001b[0m: 'PALACE_Capacitance_Simulation' object has no attribute 'fine_mesh_in_rectangle'"
     ]
    }
   ],
   "source": [
    "from SQDMetal.PALACE.Capacitance_Simulation import PALACE_Capacitance_Simulation\n",
    "\n",
    "#Eigenmode Simulation Options\n",
    "user_defined_options = {\n",
    "                \"mesh_refinement\": 0,                             #refines mesh in PALACE - essetially divides every mesh element in half\n",
    "                \"dielectric_material\": \"silicon\",                  #choose dielectric material - 'silicon' or 'sapphire'\n",
    "                \"solns_to_save\": 2,                                #number of electromagnetic field visualizations to save\n",
    "                \"solver_order\": 1,                                 #increasing solver order increases accuracy of simulation, but significantly increases sim time\n",
    "                \"solver_tol\": 1.0e-8,                              #error residual tolerance for iterative solver\n",
    "                \"solver_maxits\": 100,                              #number of solver iterations\n",
    "                \"mesh_max\": 120e-3,                                #maxiumum element size for the mesh in mm\n",
    "                \"mesh_min\": 10e-3,                                 #minimum element size for the mesh in mm\n",
    "                \"mesh_sampling\": 130,                              #number of points to mesh along a geometry\n",
    "                \"fillet_resolution\":12,                            #number of vertices per quarter turn on a filleted path\n",
    "                # \"palace_dir\":\"PATH/TO/PALACE/BINARY\"               #put in the file path for the PALACE binary\n",
    "                \"palace_dir\":\"/home/prasanna/spack/opt/spack/linux-ubuntu24.04-zen2/gcc-13.2.0/palace-0.12.0-q65qvkwsa5zglixv3rmm424wqsu3mcpv/bin/palace\"\n",
    "                }\n",
    "\n",
    "#Creat the Palace Eigenmode simulation\n",
    "cap_sim = PALACE_Capacitance_Simulation(name = 'xmon_cap_sim_GMSH',                                 #name of simulation\n",
    "                                        metal_design = design,                                      #feed in qiskit metal design\n",
    "                                        sim_parent_directory = \"C:/PALACE_Simulations/\",            #choose directory where mesh file, config file and HPC batch file will be saved\n",
    "                                        mode = 'simPC',                                             #choose simulation mode 'HPC' or 'simPC'                                          \n",
    "                                        meshing = 'GMSH',                                           #choose meshing 'GMSH' or 'COMSOL'\n",
    "                                        user_options = user_defined_options,                        #provide options chosen above\n",
    "                                        view_design_gmsh_gui = False,                               #view design in GMSH gui \n",
    "                                        create_files = True)                                        #create mesh, config and HPC batch files\n",
    "\n",
    "cap_sim.add_metallic(1, threshold=1e-10, fuse_threshold=1e-10)\n",
    "cap_sim.add_ground_plane(threshold=1e-10)\n",
    "\n",
    "#Fine-mesh the transmon cross qubit region\n",
    "cap_sim.fine_mesh_in_rectangle(0.3875e-3, -1.2e-3, 0.83e-3, -1.72e-3, mesh_sampling=130, mesh_min=15e-3, mesh_max=120e-3)\n",
    "\n",
    "#Fine-mesh resonator and transmission line\n",
    "cap_sim.fine_mesh_along_path(100e-6, 'TL', mesh_sampling=130, mesh_min=10e-3, mesh_max=120e-3)\n",
    "cap_sim.fine_mesh_along_path(100e-6, 'resonator1', mesh_sampling=130, mesh_min=10e-3, mesh_max=120e-3)\n",
    "\n",
    "cap_sim.prepare_simulation()"
   ]
  },
  {
   "cell_type": "code",
   "execution_count": null,
   "metadata": {},
   "outputs": [],
   "source": [
    "cap_sim.run()"
   ]
  },
  {
   "cell_type": "markdown",
   "metadata": {},
   "source": [
    "#### Use this to open the gmsh gui, then you can open your mesh file from the gui to view it"
   ]
  },
  {
   "cell_type": "code",
   "execution_count": 3,
   "metadata": {},
   "outputs": [],
   "source": [
    "\n",
    "import gmsh\n",
    "gmsh.initialize()\n",
    "gmsh.fltk.run()"
   ]
  }
 ],
 "metadata": {
  "kernelspec": {
   "display_name": "gmsh_development",
   "language": "python",
   "name": "python3"
  },
  "language_info": {
   "codemirror_mode": {
    "name": "ipython",
    "version": 3
   },
   "file_extension": ".py",
   "mimetype": "text/x-python",
   "name": "python",
   "nbconvert_exporter": "python",
   "pygments_lexer": "ipython3",
   "version": "3.10.13"
  }
 },
 "nbformat": 4,
 "nbformat_minor": 2
}
